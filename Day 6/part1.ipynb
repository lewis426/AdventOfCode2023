{
 "cells": [
  {
   "cell_type": "code",
   "execution_count": 34,
   "metadata": {},
   "outputs": [],
   "source": [
    "import pandas as pd\n",
    "import numpy as np"
   ]
  },
  {
   "cell_type": "code",
   "execution_count": 2,
   "metadata": {},
   "outputs": [],
   "source": [
    "# opening the file in read mode \n",
    "my_file = open(\"input.txt\", \"r\") \n",
    "  \n",
    "# reading the file \n",
    "data = my_file.read() \n",
    "  \n",
    "# split on ('\\n')\n",
    "data_list = data.split(\"\\n\") "
   ]
  },
  {
   "cell_type": "code",
   "execution_count": 20,
   "metadata": {},
   "outputs": [],
   "source": [
    "test = \"\"\"Time:      7  15   30\n",
    "Distance:  9  40  200\"\"\""
   ]
  },
  {
   "cell_type": "code",
   "execution_count": 29,
   "metadata": {},
   "outputs": [],
   "source": [
    "time_list = []\n",
    "dist_list = []\n",
    "\n",
    "for idx, row in enumerate(data_list):\n",
    "    row_split = row.split(\":\")\n",
    "    if idx == 0:\n",
    "        [time_list.append(int(time)) for time in row_split[1].split(\" \") if time != \"\"]\n",
    "    else:\n",
    "        [dist_list.append(int(dist)) for dist in row_split[1].split(\" \") if dist != \"\"]"
   ]
  },
  {
   "cell_type": "code",
   "execution_count": 30,
   "metadata": {},
   "outputs": [
    {
     "data": {
      "text/plain": [
       "[499, 2210, 1097, 1440]"
      ]
     },
     "execution_count": 30,
     "metadata": {},
     "output_type": "execute_result"
    }
   ],
   "source": [
    "dist_list"
   ]
  },
  {
   "cell_type": "code",
   "execution_count": 31,
   "metadata": {},
   "outputs": [
    {
     "name": "stdout",
     "output_type": "stream",
     "text": [
      "12 44 56 33\n",
      "37 60 97 24\n",
      "19 58 77 40\n",
      "20 73 93 54\n"
     ]
    }
   ],
   "source": [
    "success_list = []\n",
    "for time, dist in zip(time_list, dist_list):\n",
    "    success = False\n",
    "    time_held = 0\n",
    "    while (success == False) &  (time_held < time):\n",
    "        time_left = time - time_held\n",
    "        distance_carried = time_left * time_held\n",
    "        if distance_carried > dist:\n",
    "            success = True\n",
    "            num_successes = time_left - time_held +1\n",
    "            print(time_held, time_left, time, num_successes)\n",
    "            success_list.append(num_successes)\n",
    "        else:\n",
    "            time_held += 1"
   ]
  },
  {
   "cell_type": "code",
   "execution_count": 35,
   "metadata": {},
   "outputs": [
    {
     "data": {
      "text/plain": [
       "1710720"
      ]
     },
     "execution_count": 35,
     "metadata": {},
     "output_type": "execute_result"
    }
   ],
   "source": [
    "np.prod(success_list)"
   ]
  },
  {
   "cell_type": "code",
   "execution_count": null,
   "metadata": {},
   "outputs": [],
   "source": []
  }
 ],
 "metadata": {
  "interpreter": {
   "hash": "b5d21f3870ae5dce12cb9770b575bf37c2a1f00933ae354b3e69d88623c42358"
  },
  "kernelspec": {
   "display_name": "Python 3.10.9 64-bit ('base': conda)",
   "language": "python",
   "name": "python3"
  },
  "language_info": {
   "codemirror_mode": {
    "name": "ipython",
    "version": 3
   },
   "file_extension": ".py",
   "mimetype": "text/x-python",
   "name": "python",
   "nbconvert_exporter": "python",
   "pygments_lexer": "ipython3",
   "version": "3.10.9"
  },
  "orig_nbformat": 4
 },
 "nbformat": 4,
 "nbformat_minor": 2
}
