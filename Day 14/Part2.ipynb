{
 "cells": [
  {
   "cell_type": "code",
   "execution_count": 21,
   "metadata": {},
   "outputs": [],
   "source": [
    "import pandas as pd\n",
    "import numpy as np"
   ]
  },
  {
   "cell_type": "code",
   "execution_count": 22,
   "metadata": {},
   "outputs": [],
   "source": [
    "# opening the file in read mode \n",
    "my_file = open(\"input.txt\", \"r\") \n",
    "  \n",
    "# reading the file \n",
    "data = my_file.read().split('\\n')"
   ]
  },
  {
   "cell_type": "code",
   "execution_count": 23,
   "metadata": {},
   "outputs": [],
   "source": [
    "test = \"\"\"O....#....\n",
    "O.OO#....#\n",
    ".....##...\n",
    "OO.#O....O\n",
    ".O.....O#.\n",
    "O.#..O.#.#\n",
    "..O..#O..O\n",
    ".......O..\n",
    "#....###..\n",
    "#OO..#....\"\"\".split('\\n')"
   ]
  },
  {
   "cell_type": "code",
   "execution_count": 24,
   "metadata": {},
   "outputs": [
    {
     "data": {
      "text/plain": [
       "['O....#....',\n",
       " 'O.OO#....#',\n",
       " '.....##...',\n",
       " 'OO.#O....O',\n",
       " '.O.....O#.',\n",
       " 'O.#..O.#.#',\n",
       " '..O..#O..O',\n",
       " '.......O..',\n",
       " '#....###..',\n",
       " '#OO..#....']"
      ]
     },
     "execution_count": 24,
     "metadata": {},
     "output_type": "execute_result"
    }
   ],
   "source": [
    "test"
   ]
  },
  {
   "cell_type": "code",
   "execution_count": 25,
   "metadata": {},
   "outputs": [],
   "source": [
    "def update_string(string, index, update_val):\n",
    "    \"\"\"\n",
    "    Update a string by changing the character in a specific index position\n",
    "        \n",
    "        :params str string: Full string value we want to update\n",
    "        :params int index: Index in the string we want to update\n",
    "        :params str update_val: Character that we want to provide to the updated position\n",
    "\n",
    "        :returns str new_string: Updated string with character position updated\n",
    "    \"\"\"\n",
    "\n",
    "    string_list = list(string)\n",
    "    string_list[index] = update_val\n",
    "    new_string = \"\".join(string_list)\n",
    "\n",
    "    return new_string"
   ]
  },
  {
   "cell_type": "code",
   "execution_count": 61,
   "metadata": {},
   "outputs": [],
   "source": [
    "def cycle_move(data_input, direction):\n",
    "    \"\"\"\n",
    "    Moves all Os across possible empty space in direction specified in function\n",
    "        \n",
    "        :params list data_input: List of all data in file\n",
    "        :params str direction: North, South, East, West - which direction to tilt the cube in\n",
    "\n",
    "        :returns list data_input: List of all data in file\n",
    "    \"\"\"\n",
    "\n",
    "    for row_idx, row in enumerate(data_input):\n",
    "        for col_idx, item in enumerate(row):\n",
    "            if direction == \"North\":\n",
    "                curr_idx = row_idx\n",
    "                comparison_idx = curr_idx-1\n",
    "                multiplier = 1\n",
    "            elif direction == \"South\":\n",
    "                curr_idx = len(data_input)-1-row_idx\n",
    "                comparison_idx = curr_idx+1\n",
    "                multiplier = -1\n",
    "            elif direction == \"West\":\n",
    "                curr_idx = col_idx\n",
    "                comparison_idx = curr_idx-1\n",
    "                multiplier = 1\n",
    "            elif direction == \"East\":\n",
    "                curr_idx = len(data_input[0])-1-col_idx\n",
    "                comparison_idx = curr_idx+1\n",
    "                multiplier = -1\n",
    "            \n",
    "            movements = 0\n",
    "            #print(row_idx, col_idx)\n",
    "            stop = False\n",
    "            while stop == False:\n",
    "                #print(col_idx, row_idx, prev_row_idx)\n",
    "                if direction in [\"North\", \"South\"]:\n",
    "                    upper_limit = len(data_input)-1\n",
    "                else:\n",
    "                    upper_limit = len(data_input[0])-1\n",
    "                if (comparison_idx >= 0)  & (curr_idx >= 0) & (comparison_idx <= upper_limit) & (curr_idx <= upper_limit):\n",
    "                    if direction in [\"North\", \"South\"]:\n",
    "                        if (data_input[curr_idx][col_idx] == \"O\") & (data_input[comparison_idx][col_idx] == \".\"):\n",
    "                            #print(f\"Opportunity recognised at {curr_row_idx, col_idx} to {prev_row_idx, col_idx}\")\n",
    "                            data_input[comparison_idx] = update_string(data_input[comparison_idx], col_idx, \"O\")\n",
    "                            data_input[curr_idx] = update_string(data_input[curr_idx], col_idx, \".\")\n",
    "                            comparison_idx -= 1*multiplier\n",
    "                            curr_idx -= 1*multiplier\n",
    "                            movements += 1\n",
    "                        else:\n",
    "                            stop = True\n",
    "                    elif direction in [\"West\", \"East\"]:\n",
    "                        #print(curr_idx, comparison_idx, upper_limit)\n",
    "                        if (data_input[row_idx][curr_idx] == \"O\") & (data_input[row_idx][comparison_idx] == \".\"):\n",
    "                            #print(f\"Opportunity recognised at {curr_row_idx, col_idx} to {prev_row_idx, col_idx}\")\n",
    "                            data_input[row_idx] = update_string(data_input[row_idx], comparison_idx, \"O\")\n",
    "                            data_input[row_idx] = update_string(data_input[row_idx], curr_idx, \".\")\n",
    "                            comparison_idx -= 1*multiplier\n",
    "                            curr_idx -= 1*multiplier\n",
    "                            movements += 1\n",
    "                        else:\n",
    "                            stop = True\n",
    "                else:\n",
    "                    stop = True\n",
    "\n",
    "    return data_input"
   ]
  },
  {
   "cell_type": "code",
   "execution_count": 70,
   "metadata": {},
   "outputs": [],
   "source": [
    "data_input = test.copy()"
   ]
  },
  {
   "cell_type": "code",
   "execution_count": 71,
   "metadata": {},
   "outputs": [
    {
     "data": {
      "text/plain": [
       "['.....#....',\n",
       " '....#....#',\n",
       " '...O.##...',\n",
       " '...#......',\n",
       " 'O.O....O#O',\n",
       " 'O.#..O.#.#',\n",
       " 'O....#....',\n",
       " 'OO....OO..',\n",
       " '#OO..###..',\n",
       " '#OO.O#...O']"
      ]
     },
     "execution_count": 71,
     "metadata": {},
     "output_type": "execute_result"
    }
   ],
   "source": [
    "cycle_move(data_input, \"South\")"
   ]
  },
  {
   "cell_type": "code",
   "execution_count": 73,
   "metadata": {},
   "outputs": [
    {
     "data": {
      "text/plain": [
       "250000000"
      ]
     },
     "execution_count": 73,
     "metadata": {},
     "output_type": "execute_result"
    }
   ],
   "source": [
    "int(1000000000/4)"
   ]
  },
  {
   "cell_type": "code",
   "execution_count": 84,
   "metadata": {},
   "outputs": [
    {
     "data": {
      "text/plain": [
       "['O....#....',\n",
       " 'O.OO#....#',\n",
       " '.....##...',\n",
       " 'OO.#O....O',\n",
       " '.O.....O#.',\n",
       " 'O.#..O.#.#',\n",
       " '..O..#O..O',\n",
       " '.......O..',\n",
       " '#....###..',\n",
       " '#OO..#....']"
      ]
     },
     "execution_count": 84,
     "metadata": {},
     "output_type": "execute_result"
    }
   ],
   "source": [
    "test"
   ]
  },
  {
   "cell_type": "code",
   "execution_count": 110,
   "metadata": {},
   "outputs": [],
   "source": [
    "data_input = data.copy()"
   ]
  },
  {
   "cell_type": "code",
   "execution_count": 111,
   "metadata": {},
   "outputs": [
    {
     "name": "stdout",
     "output_type": "stream",
     "text": [
      "1 steps completed\n",
      "2 steps completed\n",
      "3 steps completed\n",
      "4 steps completed\n",
      "5 steps completed\n",
      "6 steps completed\n",
      "7 steps completed\n",
      "8 steps completed\n",
      "9 steps completed\n",
      "10 steps completed\n",
      "11 steps completed\n",
      "12 steps completed\n",
      "13 steps completed\n",
      "14 steps completed\n",
      "15 steps completed\n",
      "16 steps completed\n",
      "17 steps completed\n",
      "18 steps completed\n",
      "19 steps completed\n",
      "20 steps completed\n",
      "21 steps completed\n",
      "22 steps completed\n",
      "23 steps completed\n",
      "24 steps completed\n",
      "25 steps completed\n",
      "26 steps completed\n",
      "27 steps completed\n",
      "28 steps completed\n",
      "29 steps completed\n",
      "30 steps completed\n",
      "31 steps completed\n",
      "32 steps completed\n",
      "33 steps completed\n",
      "34 steps completed\n",
      "35 steps completed\n",
      "36 steps completed\n",
      "37 steps completed\n",
      "38 steps completed\n",
      "39 steps completed\n",
      "40 steps completed\n",
      "41 steps completed\n",
      "42 steps completed\n",
      "43 steps completed\n",
      "44 steps completed\n",
      "45 steps completed\n",
      "46 steps completed\n",
      "47 steps completed\n",
      "48 steps completed\n",
      "49 steps completed\n",
      "50 steps completed\n",
      "51 steps completed\n",
      "52 steps completed\n",
      "53 steps completed\n",
      "54 steps completed\n",
      "55 steps completed\n",
      "56 steps completed\n",
      "57 steps completed\n",
      "58 steps completed\n",
      "59 steps completed\n",
      "60 steps completed\n",
      "61 steps completed\n",
      "62 steps completed\n",
      "63 steps completed\n",
      "64 steps completed\n",
      "65 steps completed\n",
      "66 steps completed\n",
      "67 steps completed\n",
      "68 steps completed\n",
      "69 steps completed\n",
      "70 steps completed\n",
      "71 steps completed\n",
      "72 steps completed\n",
      "73 steps completed\n",
      "74 steps completed\n",
      "75 steps completed\n",
      "76 steps completed\n",
      "77 steps completed\n",
      "78 steps completed\n",
      "79 steps completed\n",
      "80 steps completed\n",
      "81 steps completed\n",
      "82 steps completed\n",
      "83 steps completed\n",
      "84 steps completed\n",
      "85 steps completed\n",
      "86 steps completed\n",
      "87 steps completed\n",
      "88 steps completed\n",
      "89 steps completed\n",
      "90 steps completed\n",
      "91 steps completed\n",
      "92 steps completed\n",
      "93 steps completed\n",
      "94 steps completed\n",
      "95 steps completed\n",
      "96 steps completed\n",
      "97 steps completed\n",
      "98 steps completed\n",
      "99 steps completed\n",
      "100 steps completed\n",
      "101 steps completed\n",
      "102 steps completed\n",
      "103 steps completed\n",
      "104 steps completed\n",
      "105 steps completed\n",
      "106 steps completed\n",
      "107 steps completed\n",
      "108 steps completed\n",
      "109 steps completed\n",
      "110 steps completed\n",
      "111 steps completed\n",
      "112 steps completed\n",
      "113 steps completed\n",
      "114 steps completed\n",
      "115 steps completed\n",
      "116 steps completed\n",
      "117 steps completed\n",
      "118 steps completed\n",
      "119 steps completed\n",
      "120 steps completed\n",
      "121 steps completed\n",
      "122 steps completed\n",
      "123 steps completed\n",
      "124 steps completed\n",
      "125 steps completed\n",
      "126 steps completed\n",
      "127 steps completed\n",
      "999999968 steps completed\n",
      "999999969 steps completed\n",
      "999999970 steps completed\n",
      "999999971 steps completed\n",
      "999999972 steps completed\n",
      "999999973 steps completed\n",
      "999999974 steps completed\n",
      "999999975 steps completed\n",
      "999999976 steps completed\n",
      "999999977 steps completed\n",
      "999999978 steps completed\n",
      "999999979 steps completed\n",
      "999999980 steps completed\n",
      "999999981 steps completed\n",
      "999999982 steps completed\n",
      "999999983 steps completed\n",
      "999999984 steps completed\n",
      "999999985 steps completed\n",
      "999999986 steps completed\n",
      "999999987 steps completed\n",
      "999999988 steps completed\n",
      "999999989 steps completed\n",
      "999999990 steps completed\n",
      "999999991 steps completed\n",
      "999999992 steps completed\n",
      "999999993 steps completed\n",
      "999999994 steps completed\n",
      "999999995 steps completed\n",
      "999999996 steps completed\n",
      "999999997 steps completed\n",
      "999999998 steps completed\n",
      "999999999 steps completed\n",
      "1000000000 steps completed\n"
     ]
    }
   ],
   "source": [
    "curr_cycle = 0\n",
    "target = 1000000000\n",
    "skip = False\n",
    "seen = {}\n",
    "while curr_cycle < target:\n",
    "    curr_cycle +=1\n",
    "    print(f\"{curr_cycle} steps completed\")\n",
    "\n",
    "    for direction in [\"North\", \"West\", \"South\", \"East\"]:\n",
    "        data_input = cycle_move(data_input, direction)\n",
    "        \n",
    "    # Check if this position has already been reached e.g. cycle has finished and will be the same\n",
    "    if not skip and str(data_input) in seen:\n",
    "        skip = True\n",
    "        cycle_len = curr_cycle - seen[str(data_input)]\n",
    "        curr_cycle+=((target - curr_cycle)//cycle_len) * cycle_len\n",
    "    \n",
    "    seen[str(data_input)] = curr_cycle"
   ]
  },
  {
   "cell_type": "code",
   "execution_count": 112,
   "metadata": {},
   "outputs": [],
   "source": [
    "total_load_list = []\n",
    "count_list = []\n",
    "for idx, row in enumerate(data_input):\n",
    "    num_rounded_rocks = row.count(\"O\")\n",
    "    num_rows = len(data_input)\n",
    "    total_row_load = num_rounded_rocks * (num_rows-idx)\n",
    "    total_load_list.append(total_row_load)\n",
    "    count_list.append(num_rounded_rocks)"
   ]
  },
  {
   "cell_type": "code",
   "execution_count": 113,
   "metadata": {},
   "outputs": [
    {
     "data": {
      "text/plain": [
       "112452"
      ]
     },
     "execution_count": 113,
     "metadata": {},
     "output_type": "execute_result"
    }
   ],
   "source": [
    "sum(total_load_list)"
   ]
  },
  {
   "cell_type": "code",
   "execution_count": null,
   "metadata": {},
   "outputs": [],
   "source": []
  }
 ],
 "metadata": {
  "interpreter": {
   "hash": "152ce958828e377853fdf5760f58e20a01bdbfef77aeb31140efca8d581068ae"
  },
  "kernelspec": {
   "display_name": "Python 3.11.0 64-bit (system)",
   "language": "python",
   "name": "python3"
  },
  "language_info": {
   "codemirror_mode": {
    "name": "ipython",
    "version": 3
   },
   "file_extension": ".py",
   "mimetype": "text/x-python",
   "name": "python",
   "nbconvert_exporter": "python",
   "pygments_lexer": "ipython3",
   "version": "3.11.0"
  },
  "orig_nbformat": 4
 },
 "nbformat": 4,
 "nbformat_minor": 2
}
