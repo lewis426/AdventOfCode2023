{
 "cells": [
  {
   "cell_type": "code",
   "execution_count": 1,
   "metadata": {},
   "outputs": [],
   "source": [
    "import pandas as pd\n",
    "import numpy as np"
   ]
  },
  {
   "cell_type": "code",
   "execution_count": 5,
   "metadata": {},
   "outputs": [],
   "source": [
    "# opening the file in read mode \n",
    "my_file = open(\"input.txt\", \"r\") \n",
    "  \n",
    "# reading the file \n",
    "data = my_file.read().split('\\n')"
   ]
  },
  {
   "cell_type": "code",
   "execution_count": 57,
   "metadata": {},
   "outputs": [],
   "source": [
    "test = \"\"\"O....#....\n",
    "O.OO#....#\n",
    ".....##...\n",
    "OO.#O....O\n",
    ".O.....O#.\n",
    "O.#..O.#.#\n",
    "..O..#O..O\n",
    ".......O..\n",
    "#....###..\n",
    "#OO..#....\"\"\".split('\\n')"
   ]
  },
  {
   "cell_type": "code",
   "execution_count": 58,
   "metadata": {},
   "outputs": [
    {
     "data": {
      "text/plain": [
       "['O....#....',\n",
       " 'O.OO#....#',\n",
       " '.....##...',\n",
       " 'OO.#O....O',\n",
       " '.O.....O#.',\n",
       " 'O.#..O.#.#',\n",
       " '..O..#O..O',\n",
       " '.......O..',\n",
       " '#....###..',\n",
       " '#OO..#....']"
      ]
     },
     "execution_count": 58,
     "metadata": {},
     "output_type": "execute_result"
    }
   ],
   "source": [
    "test"
   ]
  },
  {
   "cell_type": "code",
   "execution_count": 59,
   "metadata": {},
   "outputs": [],
   "source": [
    "def update_string(string, index, update_val):\n",
    "    \"\"\"\n",
    "    Update a string by changing the character in a specific index position\n",
    "        \n",
    "        :params str string: Full string value we want to update\n",
    "        :params int index: Index in the string we want to update\n",
    "        :params str update_val: Character that we want to provide to the updated position\n",
    "\n",
    "        :returns str new_string: Updated string with character position updated\n",
    "    \"\"\"\n",
    "\n",
    "    string_list = list(string)\n",
    "    string_list[index] = update_val\n",
    "    new_string = \"\".join(string_list)\n",
    "\n",
    "    return new_string"
   ]
  },
  {
   "cell_type": "code",
   "execution_count": 66,
   "metadata": {},
   "outputs": [],
   "source": [
    "data_input = data.copy()\n",
    "#movement_dict = {}\n",
    "\n",
    "for row_idx, row in enumerate(data_input):\n",
    "    for col_idx, item in enumerate(row):\n",
    "        prev_row_idx = row_idx-1\n",
    "        curr_row_idx = row_idx\n",
    "        movements = 0\n",
    "        #print(row_idx, col_idx)\n",
    "        stop = False\n",
    "        while stop == False:\n",
    "            #print(col_idx, row_idx, prev_row_idx)\n",
    "            if prev_row_idx >= 0:\n",
    "                if (data_input[curr_row_idx][col_idx] == \"O\") & (data_input[prev_row_idx][col_idx] == \".\"):\n",
    "                    #print(f\"Opportunity recognised at {curr_row_idx, col_idx} to {prev_row_idx, col_idx}\")\n",
    "                    data_input[prev_row_idx] = update_string(data_input[prev_row_idx], col_idx, \"O\")\n",
    "                    data_input[curr_row_idx] = update_string(data_input[curr_row_idx], col_idx, \".\")\n",
    "                    prev_row_idx -= 1\n",
    "                    curr_row_idx -= 1\n",
    "                    movements += 1\n",
    "                else:\n",
    "                    stop = True\n",
    "            else:\n",
    "                stop = True\n",
    "\n",
    "        #movement_dict[(row_idx, col_idx)] = movements"
   ]
  },
  {
   "cell_type": "code",
   "execution_count": 67,
   "metadata": {},
   "outputs": [
    {
     "data": {
      "text/plain": [
       "['#.OOO#.O#OOO##O.OOO.OO...O.#O.#OO#.#O...O#OO#.OOO#OO..OOOO.OO.OOOO..O.OOO#OO.O.O.O..OO#.O.OOOOO.O##O',\n",
       " 'O#OO.O.O.OO.O..#OO...O#..O.OO.O..O.OO...OOOO..#...#O#.O.#O.OO...O.#..#OOO..##O.O.O.#.O##O...O#...O.#',\n",
       " 'OO...O#O....O#.O.O.#.OO..O.#O...#O.OO###OOO......#O.O..#O..OO#.#O.#.....O..OOO.O.O.O...O.#.#...##..#',\n",
       " '......O.#....O#O..#O..O..O.#O.#..O#...O.O......##OO#.#.O#...O#.#..O.......#OO..O......#O.O......O##O',\n",
       " '.#..#.O.O#...O.O..OO....#O#OO...#O....O.O...#..##OO..O..O.##OO....O.......#OO.#O......OO.O...#...OO.',\n",
       " '.#..O#..OO...O.O...#....O.OOO...#O.#.#O...#.O##O..O#...##..O..##.#.#....#.OOO..O......OO#O..#O#..OO.',\n",
       " '.O#..O.#O....O#........#O.OOO#.#..##.OO#....OOOO..OO...OO.#O..#..O.O....O#.O...O...##..O...##O......',\n",
       " '..O..O.OO.#.#.O....##..OO.OO......OO#.....#...OO.#..#..OO.....O..O...#...O.O.#.O####O#.O#.#.#O###...',\n",
       " '..O#.O#.O..........OO##...........O.O..........O.O..O..OO.....O.#....O#.#O.O.O.OOOOO.#.O..O.#OOOO...',\n",
       " '...O.O##..........#O.#O#........#.#.....#..#.#.O#O...#.......#O#....##O.O....O..O#.O.O.O..O.O.OOO...',\n",
       " '...O..#O....#...#.O..O.#.....#..O.##....O.#O...OO....O....#...OO#..#.O...##........O...O#...O.OOO...',\n",
       " '..............#.O#O..O#......O.#..O....#..OO...OO..##....#O...O#...O.O.#.OO.....##.O....O..#....O...',\n",
       " '.......#.####...#O....O......O.##.O.#..#..O........O.#...O....OO#..O#O#O.OO..#..OO.O....O.#O.....##.',\n",
       " '..#.#.#...O.....O.........#..O#O#.O.O...#.O...#....#.O....#.........OOO.#....O..#O#..#..O#.O.....OO.',\n",
       " '#.O.O.O#..O.....O.....#...O..OOOO..#.#.#..O..#O....##O...........#......O....O..OOO.#...OO.O.....#O.',\n",
       " 'O#O....O##O...#.......O.......OOO...#O.O.....O...#..OO#......#.#..#.....O....O..OOO.#.....#...##.OO.',\n",
       " '.O.....O.OO.#..#....#.O#.......O..##O#..##..#O...O.#O.O..##.#O.O....#...O.#......OO..#........#..OO.',\n",
       " '#O..#..O.OO.O...#....#OO..........O.#O#.##..O.#.....O.O...O.OO.O.................OO.#.#......#O..O..',\n",
       " 'OO.....O#OO.O##..#..#OOO..........O.OO...O....O....#O#O..#..O.......#........#....O.O#......#....O..',\n",
       " 'O...#...O.O..OO..O#.OO............O.OO#..O....O....O.OO##O......#..#O..#.##.......O.O...............',\n",
       " '....O.....O....##O.#.O..#.#.......O...O..O#.#......O.OO....#.......OO..O.OO.##......O##..##....#...#',\n",
       " '....O#....O.....OO...O..O.O...#...O#..O.#O##O...#..#.O....#O.......O......O.OO..#...OOO..OO####O..#O',\n",
       " '#....O....O......O###....#....O.#.OO#.O#..OOO...O......#.#O#.....#.....#......#.O..#.O...O.OO#.O...O',\n",
       " '#....O.#..O#..#.........#.##....O..OO.O...OO...#O#.....O.#OO.##.......#..###..O#O..O.O...O...O.O...O',\n",
       " 'O.#..O.O...O..O#..#.#..#O.O#..#.O...O.O##..O#..#...#...O...O.OO...#...O..OO....#O..O.O.........O....',\n",
       " 'O.O..O.O...O..OO..O.O..O..O#..O#O#.#..O#O..OO....##....O#..O..O...O...O#.OO...#OO..O.O..#...#.#O#...',\n",
       " 'O#.##O.....O.#....O.O......O..#.O..#......#OO.....O#..#O...O#....#.###.O#O..#.O.O..O.O.....#O.OOO...',\n",
       " '...##.#....O##.....#O#...#..#.O#...O.....#.......#.O#.....#.O...##..OO.O#O..O.O....O....#..OO#OO.##.',\n",
       " '....#.#.....##.....O.O...##....O.#.............#.O#.....#.O..#..OO..O#.OO...O..#..#O.......O.#OO..O#',\n",
       " '..#.O......##O.##..O.O..#OO.#....O..#..#..#..#.O.O#..#..O.#..#..O....O......O..O..O.....#....O.O##.O',\n",
       " '..#.###....OO..OO....O.##O..#.......O..O.#..#O#O.OO.#O..##O.#O....##....#..#...O......#.O.#..O.O...O',\n",
       " '.###O.#..#.OO##.O......O#O.#O..#....O#.O.O..O..O..O..O..O#O.OO...#OO....O.#....O......O...O.#O.O.#.O',\n",
       " '.OO.O#O..O...OO.O.....#..O.OO#.O....OO...O#....O...#.O#.OOO.OO.#..........#...#.......O.....##.....O',\n",
       " '..#.OOO#......O..##.......#.OO...#..O#....O...#..#.##OO..OO#OO.#..####....O...O...........#.O#.....O',\n",
       " '..O.OO.O...#.......#..#...O......O..O.........O..O.##.O.#OO.O....#.OO...#.O#..O.......#...#.OO...#..',\n",
       " '.#O.O...#..O#....#....###.O......O##O.#......#...##.O...OO.#..##.O.....#..O..##...#.......O.OO......',\n",
       " '#OO.....O..O#.#.......O#O..#..#...OO......#.#....OO#....O..O..#O..........O..OO...O......#O#OO..##..',\n",
       " 'OO......O..O.##..##...O#O....#.#..O..#....O..#....OO....O.....O....#..#...O#.....#O......O.#OO..O##.',\n",
       " '......#.O....#O..O.....OO....O#...O..O..#.O.###.##.O#...O#.....#.....#O...O.....##..#......O....OO#.',\n",
       " '.......#....#OO#.O...#.OO...#O....O..O....O.OOO.OO......O......O....#OO....#.....O.#.#####.......OO.',\n",
       " '#......O......OO.O..#O..O...OO.#.#........O.#...OO.#.......#.....#.#.OO..#.O..#.#O.O#O.OO........O..',\n",
       " 'O..#.#...#..#.O....#O.......OO.#.O......#...O##.OO#....#...#...#.O.O#OO#.O....O.OO.OO.##O#.......O..',\n",
       " 'O..O.....O.....#...O.........O...O....##.....#O..OO#...#...O#.#O..#O...O#O..##O#OO....O#OO.......O#.',\n",
       " '...O.....##.#..O..#O......#..O..#..#...O.....OO...O...#O.#..#.OO..O..#..OO..OOO#.O....OOOO##......O.',\n",
       " '......#..O...#.#...O...............O....#...#OO...O...#..#..O......#.O...O.#OO.O.O#.......#O....#.O.',\n",
       " '......O..O...O..#.#O..##..#....#.....#.###.#..#...O...O..O..O....#..#O.#.O.O...O..#........O...#O.O.',\n",
       " '#.....O..O#.#O..O#O.##OO.......O##...O.OOO.O..O#..O#..#....#O...#O.#OO.##.........O#...#..#....#..O.',\n",
       " 'O.....O..OO.OO.#..O.#..O...#...O.....O...O.O.#O.#.OO.##....O...#O.#OO.#O...#.......O...#.#O.......O.',\n",
       " '.#....O#.OO....O.......#.....#.O#..#....#..O#O....OO#O..##...#....O...OO...O.......O#..O..O...#...O.',\n",
       " '..#.#..O.O.......#........##.##.O.......O...#.....O.#.##O#...O.#......OO...O...#...OO..O.#O##.###.O.',\n",
       " '.##.O..O.O......#O....##...O.O.#..#...##....O..##...O#O#OO..#O.........O.....#.O...OO#.O.O..O...#.O#',\n",
       " '.#O.O..O#..##...##...#O#..#O.O#O#.O#..O#......#OO#..OOO#....OO##...#...O#......O..#OO#...O....#.O#..',\n",
       " '.O..O#.OO.#OO...OO..#OOO#.....#...O...O#..#....OOO..OO........##...O#...O......O..#OO.##.O.#..O..#.#',\n",
       " '.O...O.OO..#O.#.....OOO.#.#......#O#.#.O..O..##......O.#...#..O.###.#...O......O....O.OO.O.O..O.....',\n",
       " '...#.O.O............O..#O....#.....O.O#O.#...O.......O....#...O#O.#.O.......##......O....O.O##O.##..',\n",
       " '.#.O#O....##......##...#.#...O...#.O.#OO.O...O.......O.#.##...OOO.##O.......OO#..........O...#..##..',\n",
       " '#O...O....OO..##..##...O..##.O..#O...OOO#....O...#.##O..#OO...OO.#OOO........O..#....#...O#..O..O...',\n",
       " 'OO....#...O..........#.O##.#...#.#....OOO.#..O...O.#OO..#........O..O#....##.O....#..O....#..O.....#',\n",
       " '.O.#..O..#...#.##...#O.OOO#O#..O.O.#..OOO....O...O.OOO.#O........O........#O#O.##.O..O..#.O........O',\n",
       " '#.#O#.O..O...#..O.#.O...O.#.O#.O#O.O#......#..###O.OOO.O......#..O#...#..#O.OO..O.#.......O........O',\n",
       " 'O#......#.##..#.O#O..##.....O.#OOO..O.....#O#..OO...OO.O...##.....O...O...O.....O#O....#..O.#..#...O',\n",
       " '..#...#.O#OO.#O#OO...OO.#.#.O...OO..O....#.O#....#..O.....#O#.......#..#....#...O##.......O....O....',\n",
       " '..##..O.O#OO#OOO....#OO.#.O#.#..O...O....O.O.......#O.#...OO#.#.....O.#O......#.O.O...#...O.........',\n",
       " '.#O#..O.O.OOOOOO...##.O...OO.O##..##O#..#O..#.......O.O..#OOO#O...#...O.......O#O.O...O.#.O...#..#..',\n",
       " '..OO....O.O.OOOO.#.OO...##OO.O###.#OOO..#.#....#.#..O....#...O........O..#.#..O#......O.O.....O#.O..',\n",
       " '.#O.....O#O.O....O.OO...O.O..OOOO.#..O..O.O....O.O....#..O...O.....#...##O.O.........#O.....##...O..',\n",
       " '##.#....O..........O....O....O..O.#.....O.....#..........O..#O#.#.###......O#....#...O.#....O....O..',\n",
       " 'OO.O#..#O......#..#..#......#.....#......##.#.O.#.##....#O....O.O.O.....#.....#..O...O.O...#...#..#.',\n",
       " 'O.......O.........#....#...#O..#..O.#.#..O..O.O.O.....#..O..#.O#O#..#.#.O.#..##..O.#...O#..O...O#.O.',\n",
       " 'O......#O......#.#O.##.O.#.#...O.#O.O#.#..#.#.........O##...O.O#..##O.O#..###.O..O......O.....#OO#..',\n",
       " '...#..##.....#...OO.O......O.....O..O##........#.#......O.##..O...OO...#..O..#O#.O..........#.#O#O..',\n",
       " '.#.O..OO.......#.OO....#...O.....#.#.O......####.......#O..O..O#..OO..##.#.##O.....###......O.OO...#',\n",
       " '......OO.#...#.O#.O........O..#..O#O..#......OOO#..........O..OO.#O..#OO.O##OO.....OOO.....#.#OO#...',\n",
       " '....#..O.#...O.O...#.##..#....O#.OOO..O.#..##O..##....#..#.O...O.#O.#OOO...O...#..#OOO.....O.OO.O#..',\n",
       " '..#.O#...O...O.O...#..O..O...#.O.OOO..O.O.#..O...O##..O..O.O...O#OO..O.O.....#.#..OO.O.#.....O..O#..',\n",
       " '.#O#.O...O#..O.O#..O..O##O.#.#.O#O....O.O.......#..O...##...#..O.O......#.##.O.#..O.....#...........',\n",
       " '...#.O....O.#O.OO..O..O.OO.O#O#.OO.....#O.#.......#O.#.OO#..........#...O.OO...##.O......##.#.....#.',\n",
       " '#..O.O......O...O#....O#OO...OO#OO.....#O...##.##.OO..#OO..........#....#.OO...#O.O.#....O..O.#...O.',\n",
       " 'O.#O#O#.....#...OO....OO.O#.#.OOO.......O#..OO.O.#.O..OOO.......#...#....#OO.##OO.O#O..#.O.#O#......',\n",
       " 'O.#.O.O.....O....O.....O#OO....OO...#..#O...#....O..#.O...#.#......#O.....O..O....O.O..#....OO......',\n",
       " 'O#....O...#...#...#.#..O#O.#...OO......O...##...#O..........O..#...OO..##....O.##.O...#O...#OO#..#.#',\n",
       " 'O.#...O...O...O...O.O#...O#.#..OO..#.#.O.#....##O.......#...#..##...O..OO#...O.OO#.#..OO...OO.O....#',\n",
       " 'O.#.......O.#...#...O....OO.O...O..O#.#O..#..##.O....#....#.O..#...#O.#.OO....#..O.O...O#...O.O..#.O',\n",
       " 'O.O.##.......#..O#..O...#OO#.#..O...O.OO..O..#O#.....O...#..O.#....#.##..O....O.#O....#O#...O.O##..O',\n",
       " 'O#..OO.....#.O...O#.O....OO.##..O..#O.OO.#...OO..#..#.#.#.#.O.O...#O.....O..#...OO.#..#.....O..O.#..',\n",
       " '....OO.###.O.O#..O..O....OO.OO......O.OO.###.#......O##...O.O#..#...............OO.O.##......#.O#O#.',\n",
       " '.#.#OO.OOO..#.O..#...#..#O..OO........O....O#O..##....O.#.O#OO#..#.#.###..#..#.#O....#O.#..#.#..OOO.',\n",
       " '...#O...OO..O.O...#.....O...OO#...#..#O...#O.O..OO....O..##OO......O..OO..O..O..O....O..#..#....O.O.',\n",
       " '.........O..O.O...##.#.....#.OO......#O..#..#O...O##..O.#.O....##..O.#..#.O##O..O..##O.....O....O...',\n",
       " '..##........O.O...O...........O......O...O###...#O#O.#.#..O...#O.....O..O..OOO.....OO.#...#.....O...',\n",
       " '...#...#........##O#.......#......#..O...O..O...#O.O##.O#.O..##..#....#.O....O#....OO.#....#........',\n",
       " '...O...O........#..#..#....O......O......O..O...O.#.OO.#O.............O....#............#..O........',\n",
       " '...#...O...#....O.#...O...#O......O.......#..#.#O.O..O.OO....####....#O.#..#...#......#.O..O..#.....',\n",
       " '.##O...#...O....O.##..O...OO#.....O#........#...O.#....O.#.#.O#.O.#..O..O..#.##....#....O#..#.##..#.',\n",
       " '.OO....O...O.#..........#.O.O.#....O......#..#.#O......O.O.O.#...##........O..##...O..#.O#..O#OO..O.',\n",
       " '.O...#.O...O.O...#.#...#..O...O........#.....O.OO.#....O.O...O...#...#....#O.....#.O.....O...O......',\n",
       " '.O...O..#.#O.O.#......#O....#.O........O....#O...........O.....#.O....#.....#####O....#...##.......#',\n",
       " '......#.O#..#O.O..#...#.#.....O..###...O..#.O.........#....#.....O...#O..#...OO.OO.#..#..#.#.#....#.',\n",
       " '...#.....O..O.#O...##...O..#.#...OOO...#..O#..#....#.......O..........O#......O#...O...#.O.O...#.#..',\n",
       " '...O......#...#O...#O...O..O.....O....##..........#..#...................#.............O.....#...##.']"
      ]
     },
     "execution_count": 67,
     "metadata": {},
     "output_type": "execute_result"
    }
   ],
   "source": [
    "data_input"
   ]
  },
  {
   "cell_type": "code",
   "execution_count": 68,
   "metadata": {},
   "outputs": [],
   "source": [
    "total_load_list = []\n",
    "for idx, row in enumerate(data_input):\n",
    "    num_rounded_rocks = row.count(\"O\")\n",
    "    num_rows = len(data_input)\n",
    "    total_row_load = num_rounded_rocks * (num_rows-idx)\n",
    "    total_load_list.append(total_row_load)"
   ]
  },
  {
   "cell_type": "code",
   "execution_count": 69,
   "metadata": {},
   "outputs": [
    {
     "data": {
      "text/plain": [
       "109345"
      ]
     },
     "execution_count": 69,
     "metadata": {},
     "output_type": "execute_result"
    }
   ],
   "source": [
    "sum(total_load_list)"
   ]
  },
  {
   "cell_type": "code",
   "execution_count": null,
   "metadata": {},
   "outputs": [],
   "source": []
  }
 ],
 "metadata": {
  "interpreter": {
   "hash": "152ce958828e377853fdf5760f58e20a01bdbfef77aeb31140efca8d581068ae"
  },
  "kernelspec": {
   "display_name": "Python 3.11.0 64-bit (system)",
   "language": "python",
   "name": "python3"
  },
  "language_info": {
   "codemirror_mode": {
    "name": "ipython",
    "version": 3
   },
   "file_extension": ".py",
   "mimetype": "text/x-python",
   "name": "python",
   "nbconvert_exporter": "python",
   "pygments_lexer": "ipython3",
   "version": "3.11.0"
  },
  "orig_nbformat": 4
 },
 "nbformat": 4,
 "nbformat_minor": 2
}
