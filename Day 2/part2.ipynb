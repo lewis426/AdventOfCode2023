{
 "cells": [
  {
   "cell_type": "code",
   "execution_count": 11,
   "metadata": {},
   "outputs": [],
   "source": [
    "import pandas as pd\n",
    "import numpy as np"
   ]
  },
  {
   "cell_type": "code",
   "execution_count": 2,
   "metadata": {},
   "outputs": [],
   "source": [
    "# opening the file in read mode \n",
    "my_file = open(\"input.txt\", \"r\") \n",
    "  \n",
    "# reading the file \n",
    "data = my_file.read() \n",
    "  \n",
    "# split on ('\\n')\n",
    "data_list = data.split(\"\\n\") "
   ]
  },
  {
   "cell_type": "code",
   "execution_count": 3,
   "metadata": {},
   "outputs": [
    {
     "data": {
      "text/plain": [
       "['Game 1: 7 blue, 5 red; 10 red, 7 blue; 5 blue, 4 green, 15 red; 4 green, 6 red, 7 blue; 5 green, 8 blue, 4 red; 5 red, 4 blue, 3 green',\n",
       " 'Game 2: 8 green, 3 red; 7 blue, 6 red, 8 green; 7 blue, 3 green, 6 red; 8 green, 6 blue, 11 red; 6 blue, 3 green, 12 red',\n",
       " 'Game 3: 6 blue, 3 red, 7 green; 3 red, 3 green, 8 blue; 8 blue, 11 red, 4 green; 5 blue, 7 red, 6 green; 9 blue, 7 green, 1 red',\n",
       " 'Game 4: 3 red, 4 green; 5 red, 1 blue; 2 green; 3 green, 1 blue; 2 green, 1 blue, 1 red',\n",
       " 'Game 5: 17 red, 5 blue, 3 green; 8 green, 9 red, 10 blue; 2 green, 9 blue, 4 red']"
      ]
     },
     "execution_count": 3,
     "metadata": {},
     "output_type": "execute_result"
    }
   ],
   "source": [
    "data_list[:5]"
   ]
  },
  {
   "cell_type": "code",
   "execution_count": 4,
   "metadata": {},
   "outputs": [],
   "source": [
    "max_red = 12\n",
    "max_green = 13\n",
    "max_blue = 14\n",
    "check_dict = {\"blue\":max_blue, \"red\":max_red, \"green\":max_green}"
   ]
  },
  {
   "cell_type": "code",
   "execution_count": 5,
   "metadata": {},
   "outputs": [],
   "source": [
    "test_list = [\"Game 1: 3 blue, 4 red; 1 red, 2 green, 6 blue; 2 green\"]"
   ]
  },
  {
   "cell_type": "code",
   "execution_count": 6,
   "metadata": {},
   "outputs": [],
   "source": [
    "# For each game, split each selection into key value pairs of colour and num of cubes so we can iterate for checking later on\n",
    "game_dict = {}\n",
    "for game in data_list:\n",
    "    # Split into game vs all selections\n",
    "    game_split = game.split(\":\")\n",
    "    game_key = game_split[0]\n",
    "    # Split first by each round then by each selection\n",
    "    round_split = [round_split.split(\",\") for round_split in game_split[1].split(\";\")]\n",
    "    round_list = []\n",
    "    for round in round_split:\n",
    "        # Split string so we have the number and the colour, add to dict for each and then make list of all colour dicts for each game\n",
    "        for item in round:\n",
    "            item = item.strip()\n",
    "            colour_split = item.split(\" \")\n",
    "            #print(colour_split)\n",
    "            colour_key = colour_split[1]\n",
    "            colour_num = colour_split[0]\n",
    "            temp_dict = {colour_key:colour_num}\n",
    "            round_list.append(temp_dict)\n",
    "    game_dict[game_key] = round_list"
   ]
  },
  {
   "cell_type": "code",
   "execution_count": 20,
   "metadata": {},
   "outputs": [
    {
     "data": {
      "text/plain": [
       "[{'blue': '7'},\n",
       " {'red': '5'},\n",
       " {'red': '10'},\n",
       " {'blue': '7'},\n",
       " {'blue': '5'},\n",
       " {'green': '4'},\n",
       " {'red': '15'},\n",
       " {'green': '4'},\n",
       " {'red': '6'},\n",
       " {'blue': '7'},\n",
       " {'green': '5'},\n",
       " {'blue': '8'},\n",
       " {'red': '4'},\n",
       " {'red': '5'},\n",
       " {'blue': '4'},\n",
       " {'green': '3'}]"
      ]
     },
     "execution_count": 20,
     "metadata": {},
     "output_type": "execute_result"
    }
   ],
   "source": [
    "# Check format for accessing each selection\n",
    "game_dict[\"Game 1\"]"
   ]
  },
  {
   "cell_type": "code",
   "execution_count": 14,
   "metadata": {},
   "outputs": [],
   "source": [
    "result_dict = {}\n",
    "for game, checks in game_dict.items():\n",
    "    # Put id in number format to easily sum up\n",
    "    game_id = game.strip().split(\" \")[1]\n",
    "    # Dict of min cubes needed for each colour, begin with 0\n",
    "    colour_dict = {\"red\":0, \"blue\":0, \"green\":0}\n",
    "    for pick in checks:\n",
    "        # Check each pick and collect min num cubes for each colour\n",
    "        for colour, num in pick.items():\n",
    "            # override to largest value required each colour, if selection larger than current minimum then change\n",
    "            if int(num) > colour_dict[colour]:\n",
    "                colour_dict[colour] = int(num)\n",
    "    \n",
    "    # power is product of all min values\n",
    "    power = np.prod(list(colour_dict.values()))\n",
    "\n",
    "    # Update results with dic of product of min cubes each colour after all iterations for each game checked\n",
    "    result_dict[game_id] = power"
   ]
  },
  {
   "cell_type": "code",
   "execution_count": 16,
   "metadata": {},
   "outputs": [
    {
     "data": {
      "text/plain": [
       "67363"
      ]
     },
     "execution_count": 16,
     "metadata": {},
     "output_type": "execute_result"
    }
   ],
   "source": [
    "# sum() performs summation\n",
    "sum([int(value) for value in result_dict.values()])"
   ]
  },
  {
   "cell_type": "code",
   "execution_count": null,
   "metadata": {},
   "outputs": [],
   "source": []
  }
 ],
 "metadata": {
  "kernelspec": {
   "display_name": "base",
   "language": "python",
   "name": "python3"
  },
  "language_info": {
   "codemirror_mode": {
    "name": "ipython",
    "version": 3
   },
   "file_extension": ".py",
   "mimetype": "text/x-python",
   "name": "python",
   "nbconvert_exporter": "python",
   "pygments_lexer": "ipython3",
   "version": "3.9.7"
  },
  "orig_nbformat": 4
 },
 "nbformat": 4,
 "nbformat_minor": 2
}
