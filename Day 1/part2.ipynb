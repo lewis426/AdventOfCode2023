{
 "cells": [
  {
   "cell_type": "code",
   "execution_count": 23,
   "metadata": {},
   "outputs": [],
   "source": [
    "\n",
    "import pandas as pd\n",
    "import re\n"
   ]
  },
  {
   "cell_type": "code",
   "execution_count": 24,
   "metadata": {},
   "outputs": [],
   "source": [
    "def sum_first_last(row):\n",
    "    amended = re.sub(\"[^0-9]\", \"\", row)\n",
    "    first = amended[0]\n",
    "    last = amended[-1]\n",
    "\n",
    "    sum_first_last = int(str(first)+str(last))\n",
    "\n",
    "    return sum_first_last"
   ]
  },
  {
   "cell_type": "code",
   "execution_count": 25,
   "metadata": {},
   "outputs": [],
   "source": [
    "text_to_num_dict = {\"zero\":\"zer0o\", \"one\":\"on1e\", \"two\":\"tw2o\", \"three\":\"thre3e\", \"four\":\"fou4r\", \"five\":\"fiv5e\", \"six\":\"si6x\", \"seven\":\"seve7n\", \"eight\":\"eigh8t\", \"nine\":\"nin9e\"}"
   ]
  },
  {
   "cell_type": "code",
   "execution_count": 26,
   "metadata": {},
   "outputs": [],
   "source": [
    "def convert_text_to_number(row):\n",
    "    row = str(row)\n",
    "    for key, item in text_to_num_dict.items():\n",
    "        row = row.replace(key, str(item))\n",
    "    \n",
    "    return row"
   ]
  },
  {
   "cell_type": "code",
   "execution_count": 27,
   "metadata": {},
   "outputs": [],
   "source": [
    "test_df = pd.read_csv(\"./part1_data.csv\")"
   ]
  },
  {
   "cell_type": "code",
   "execution_count": 28,
   "metadata": {},
   "outputs": [],
   "source": [
    "test_df[\"Amended Data\"] = test_df[\"data\"].apply(lambda x: convert_text_to_number(x))"
   ]
  },
  {
   "cell_type": "code",
   "execution_count": 29,
   "metadata": {},
   "outputs": [
    {
     "data": {
      "text/html": [
       "<div>\n",
       "<style scoped>\n",
       "    .dataframe tbody tr th:only-of-type {\n",
       "        vertical-align: middle;\n",
       "    }\n",
       "\n",
       "    .dataframe tbody tr th {\n",
       "        vertical-align: top;\n",
       "    }\n",
       "\n",
       "    .dataframe thead th {\n",
       "        text-align: right;\n",
       "    }\n",
       "</style>\n",
       "<table border=\"1\" class=\"dataframe\">\n",
       "  <thead>\n",
       "    <tr style=\"text-align: right;\">\n",
       "      <th></th>\n",
       "      <th>data</th>\n",
       "      <th>Amended Data</th>\n",
       "    </tr>\n",
       "  </thead>\n",
       "  <tbody>\n",
       "    <tr>\n",
       "      <th>0</th>\n",
       "      <td>9eightone</td>\n",
       "      <td>9eigh8ton1e</td>\n",
       "    </tr>\n",
       "    <tr>\n",
       "      <th>1</th>\n",
       "      <td>hczsqfour3nxm5seven4</td>\n",
       "      <td>hczsqfou4r3nxm5seve7n4</td>\n",
       "    </tr>\n",
       "    <tr>\n",
       "      <th>2</th>\n",
       "      <td>9twopjqkghmbone</td>\n",
       "      <td>9tw2opjqkghmbon1e</td>\n",
       "    </tr>\n",
       "    <tr>\n",
       "      <th>3</th>\n",
       "      <td>rhrfthv886vflthreeztvzs</td>\n",
       "      <td>rhrfthv886vflthre3eztvzs</td>\n",
       "    </tr>\n",
       "    <tr>\n",
       "      <th>4</th>\n",
       "      <td>tlbtwo62five</td>\n",
       "      <td>tlbtw2o62fiv5e</td>\n",
       "    </tr>\n",
       "  </tbody>\n",
       "</table>\n",
       "</div>"
      ],
      "text/plain": [
       "                      data              Amended Data\n",
       "0                9eightone               9eigh8ton1e\n",
       "1     hczsqfour3nxm5seven4    hczsqfou4r3nxm5seve7n4\n",
       "2          9twopjqkghmbone         9tw2opjqkghmbon1e\n",
       "3  rhrfthv886vflthreeztvzs  rhrfthv886vflthre3eztvzs\n",
       "4             tlbtwo62five            tlbtw2o62fiv5e"
      ]
     },
     "execution_count": 29,
     "metadata": {},
     "output_type": "execute_result"
    }
   ],
   "source": [
    "test_df.head()"
   ]
  },
  {
   "cell_type": "code",
   "execution_count": 30,
   "metadata": {},
   "outputs": [],
   "source": [
    "test_df[\"Sum of first and last\"] = test_df[\"Amended Data\"].apply(lambda x: sum_first_last(x))"
   ]
  },
  {
   "cell_type": "code",
   "execution_count": 31,
   "metadata": {},
   "outputs": [
    {
     "data": {
      "text/plain": [
       "54431"
      ]
     },
     "execution_count": 31,
     "metadata": {},
     "output_type": "execute_result"
    }
   ],
   "source": [
    "test_df[\"Sum of first and last\"].sum()"
   ]
  },
  {
   "cell_type": "code",
   "execution_count": null,
   "metadata": {},
   "outputs": [],
   "source": []
  }
 ],
 "metadata": {
  "interpreter": {
   "hash": "76ad95f14593b0a2fc24d0a09d92258fca1e0075874122d58dd1bae94a601e54"
  },
  "kernelspec": {
   "display_name": "Python 3.11.0 64-bit",
   "language": "python",
   "name": "python3"
  },
  "language_info": {
   "codemirror_mode": {
    "name": "ipython",
    "version": 3
   },
   "file_extension": ".py",
   "mimetype": "text/x-python",
   "name": "python",
   "nbconvert_exporter": "python",
   "pygments_lexer": "ipython3",
   "version": "3.10.9"
  },
  "orig_nbformat": 4
 },
 "nbformat": 4,
 "nbformat_minor": 2
}
