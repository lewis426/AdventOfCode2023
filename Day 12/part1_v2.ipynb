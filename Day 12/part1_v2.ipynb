{
 "cells": [
  {
   "cell_type": "code",
   "execution_count": null,
   "metadata": {},
   "outputs": [],
   "source": [
    "from functools import cache"
   ]
  },
  {
   "cell_type": "code",
   "execution_count": 2,
   "metadata": {},
   "outputs": [],
   "source": [
    "@cache # too slow without the cache - stpres function values\n",
    "def numlegal(s,c):\n",
    "\n",
    "    s = s.lstrip('.') # ignore leading dots\n",
    "\n",
    "    # ['', ()] is legal\n",
    "    if s == '':\n",
    "        return int(c == ()) \n",
    "\n",
    "    # [s, ()] is legal so long as s has no '#' (we can convert '?' to '.')\n",
    "    if c == ():\n",
    "        return int(s.find('#') == -1) \n",
    "\n",
    "    # s starts with '#' so remove the first spring\n",
    "    if s[0] == '#':\n",
    "        if len(s) < c[0] or '.' in s[:c[0]]:\n",
    "            return 0 # impossible - not enough space for the spring\n",
    "        elif len(s) == c[0]:\n",
    "            return int(len(c) == 1) #single spring, right size\n",
    "        elif s[c[0]] == '#':\n",
    "            return 0 # springs must be separated by '.' (or '?') \n",
    "        else:\n",
    "            return numlegal(s[c[0]+1:],c[1:]) # one less spring\n",
    "\n",
    "    # numlegal springs if we convert the first '?' to '#' + '.'\n",
    "    return numlegal('#'+s[1:],c) + numlegal(s[1:],c)"
   ]
  },
  {
   "cell_type": "code",
   "execution_count": 4,
   "metadata": {},
   "outputs": [],
   "source": [
    "springs = [c.strip().split() for c in open(\"input.txt\").readlines()]\n",
    "ss = [[c[0],tuple(int(d) for d in c[1].split(','))] for c in springs]\n",
    "print(\"Part 1 total:\", sum(numlegal(s,c) for [s,c] in ss))\n"
   ]
  },
  {
   "cell_type": "code",
   "execution_count": null,
   "metadata": {},
   "outputs": [],
   "source": [
    "ss2 = [[(s[0]+'?')*4 + s[0],s[1]*5] for s in ss]\n",
    "print(\"Part 2 total:\", sum(numlegal(s,c) for [s,c] in ss2))"
   ]
  },
  {
   "cell_type": "code",
   "execution_count": 8,
   "metadata": {},
   "outputs": [
    {
     "data": {
      "text/plain": [
       "False"
      ]
     },
     "execution_count": 8,
     "metadata": {},
     "output_type": "execute_result"
    }
   ],
   "source": [
    "\"...#..\".find(\"#\")== -1"
   ]
  },
  {
   "cell_type": "code",
   "execution_count": null,
   "metadata": {},
   "outputs": [],
   "source": []
  }
 ],
 "metadata": {
  "interpreter": {
   "hash": "b5d21f3870ae5dce12cb9770b575bf37c2a1f00933ae354b3e69d88623c42358"
  },
  "kernelspec": {
   "display_name": "Python 3.10.9 64-bit ('base': conda)",
   "language": "python",
   "name": "python3"
  },
  "language_info": {
   "codemirror_mode": {
    "name": "ipython",
    "version": 3
   },
   "file_extension": ".py",
   "mimetype": "text/x-python",
   "name": "python",
   "nbconvert_exporter": "python",
   "pygments_lexer": "ipython3",
   "version": "3.11.0"
  },
  "orig_nbformat": 4
 },
 "nbformat": 4,
 "nbformat_minor": 2
}
