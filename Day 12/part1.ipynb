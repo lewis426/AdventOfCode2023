{
 "cells": [
  {
   "cell_type": "code",
   "execution_count": 1,
   "metadata": {},
   "outputs": [],
   "source": [
    "import pandas as pd\n",
    "import numpy as np"
   ]
  },
  {
   "cell_type": "code",
   "execution_count": 2,
   "metadata": {},
   "outputs": [],
   "source": [
    "# opening the file in read mode \n",
    "my_file = open(\"input.txt\", \"r\") \n",
    "  \n",
    "# reading the file \n",
    "data = my_file.read() \n",
    "  \n",
    "# split on ('\\n')\n",
    "data_list = data.split(\"\\n\") "
   ]
  },
  {
   "cell_type": "code",
   "execution_count": 57,
   "metadata": {},
   "outputs": [],
   "source": [
    "amended_data = [data.split(\" \") for data in data_list]"
   ]
  },
  {
   "cell_type": "code",
   "execution_count": null,
   "metadata": {},
   "outputs": [],
   "source": [
    "group_list = []\n",
    "step_list = []\n",
    "diff_list = []\n",
    "for data in amended_data:\n",
    "    pattern = data[0]\n",
    "    num_groups = len([pattern for pattern in pattern.split(\".\") if pattern != \"\"])\n",
    "    req_steps = [int(req) for req in data[1].split(\",\")]\n",
    "    group_list.append(num_groups)\n",
    "    step_list.append(len(req_steps))\n",
    "    diff_list.append(len(req_steps) - num_groups)\n",
    "    #print(f\"{num_groups} groups with {len(req_steps)} steps\")"
   ]
  },
  {
   "cell_type": "code",
   "execution_count": null,
   "metadata": {},
   "outputs": [
    {
     "data": {
      "text/plain": [
       "(Counter({3: 286, 2: 409, 4: 105, 1: 176, 5: 21, 6: 3}),\n",
       " Counter({3: 291, 2: 301, 4: 229, 5: 126, 6: 53}),\n",
       " Counter({0: 265,\n",
       "          4: 19,\n",
       "          3: 94,\n",
       "          1: 309,\n",
       "          2: 196,\n",
       "          -1: 89,\n",
       "          -3: 3,\n",
       "          -2: 19,\n",
       "          5: 5,\n",
       "          -4: 1}))"
      ]
     },
     "metadata": {},
     "output_type": "display_data"
    }
   ],
   "source": [
    "from collections import Counter\n",
    "Counter(group_list), Counter(step_list), Counter(diff_list)"
   ]
  },
  {
   "cell_type": "code",
   "execution_count": 20,
   "metadata": {},
   "outputs": [],
   "source": [
    "test = ['????.######..#####.', '1,6,5']"
   ]
  },
  {
   "cell_type": "code",
   "execution_count": 40,
   "metadata": {},
   "outputs": [
    {
     "name": "stdout",
     "output_type": "stream",
     "text": [
      "[1, 6, 5]\n"
     ]
    }
   ],
   "source": [
    "pattern = test[0]\n",
    "req_steps = [int(req) for req in test[1].split(\",\")]\n",
    "print(req_steps)"
   ]
  },
  {
   "cell_type": "code",
   "execution_count": 41,
   "metadata": {},
   "outputs": [],
   "source": [
    "offset = 0\n",
    "for idx, char in enumerate(pattern):\n",
    "    if idx > 0:\n",
    "        #print(idx)\n",
    "        if (pattern[idx-offset] == \".\") & (pattern[idx-1-offset] == \".\"):\n",
    "            pattern = pattern[:idx-offset] + pattern[idx+1-offset:]\n",
    "            offset += 1\n"
   ]
  },
  {
   "cell_type": "code",
   "execution_count": 42,
   "metadata": {},
   "outputs": [
    {
     "data": {
      "text/plain": [
       "'????.######.#####.'"
      ]
     },
     "execution_count": 42,
     "metadata": {},
     "output_type": "execute_result"
    }
   ],
   "source": [
    "pattern"
   ]
  },
  {
   "cell_type": "code",
   "execution_count": 43,
   "metadata": {},
   "outputs": [],
   "source": [
    "broken_points = []\n",
    "working_points = []\n",
    "question_points = []\n",
    "for idx, char in enumerate(pattern):\n",
    "    if (char == \"#\"):\n",
    "        working_points.append(idx)\n",
    "    elif char == \".\":\n",
    "        broken_points.append(idx)\n",
    "    elif char == \"?\":\n",
    "        question_points.append(idx)"
   ]
  },
  {
   "cell_type": "code",
   "execution_count": 44,
   "metadata": {},
   "outputs": [
    {
     "data": {
      "text/plain": [
       "([4, 11, 17], [5, 6, 7, 8, 9, 10, 12, 13, 14, 15, 16], [0, 1, 2, 3])"
      ]
     },
     "execution_count": 44,
     "metadata": {},
     "output_type": "execute_result"
    }
   ],
   "source": [
    "broken_points, working_points, question_points"
   ]
  },
  {
   "cell_type": "code",
   "execution_count": 45,
   "metadata": {},
   "outputs": [],
   "source": [
    "num_groups = len([pattern for pattern in pattern.split(\".\") if pattern != \"\"])"
   ]
  },
  {
   "cell_type": "code",
   "execution_count": 54,
   "metadata": {},
   "outputs": [
    {
     "name": "stdout",
     "output_type": "stream",
     "text": [
      "4 due to 4\n",
      "4 due to 11\n",
      "4 due to 17\n"
     ]
    }
   ],
   "source": [
    "if num_groups == len(req_steps):\n",
    "    count = 0\n",
    "    offset = 0\n",
    "    for idx, point in enumerate(broken_points):\n",
    "        count += point - offset + 1 - req_steps[idx]\n",
    "        offset = point + 2\n",
    "        print(f\"{count} due to {point}\")\n",
    "elif num_groups == 1:\n",
    "    count = 0\n",
    "    for step in req_steps:\n",
    "        #count += len(pattern) - sum(req_steps) + step # need to think of how to calculate possible combinations within a certain number\n",
    "# how to do this for other group patterns"
   ]
  }
 ],
 "metadata": {
  "interpreter": {
   "hash": "b5d21f3870ae5dce12cb9770b575bf37c2a1f00933ae354b3e69d88623c42358"
  },
  "kernelspec": {
   "display_name": "Python 3.10.9 64-bit ('base': conda)",
   "language": "python",
   "name": "python3"
  },
  "language_info": {
   "codemirror_mode": {
    "name": "ipython",
    "version": 3
   },
   "file_extension": ".py",
   "mimetype": "text/x-python",
   "name": "python",
   "nbconvert_exporter": "python",
   "pygments_lexer": "ipython3",
   "version": "3.10.9"
  },
  "orig_nbformat": 4
 },
 "nbformat": 4,
 "nbformat_minor": 2
}
